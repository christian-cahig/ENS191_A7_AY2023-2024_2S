{
 "cells": [
  {
   "cell_type": "code",
   "execution_count": 1,
   "metadata": {},
   "outputs": [],
   "source": [
    "import utils as U"
   ]
  },
  {
   "cell_type": "markdown",
   "metadata": {},
   "source": [
    "# Scenario 1"
   ]
  },
  {
   "cell_type": "markdown",
   "metadata": {},
   "source": [
    "## S1-1"
   ]
  },
  {
   "cell_type": "code",
   "execution_count": 2,
   "metadata": {},
   "outputs": [
    {
     "name": "stdout",
     "output_type": "stream",
     "text": [
      "Meek's total debt as of today: Php 803.80401k\n"
     ]
    }
   ],
   "source": [
    "# Meek's debt by the start of Year -1 is the sum of\n",
    "#   his loan from Year -2, compounded by the interest at Year -2,\n",
    "#   and his loan for Year -1.\n",
    "debt_n1 = (345 * U.single_payment_compound_amount_factor(0.069, 1)) + 402.6\n",
    "# Meek's debt as of today (Year 0) is his debt by the start of Year -1,\n",
    "# compounded by the interest at Year -1.\n",
    "debt_0 = debt_n1 * U.single_payment_compound_amount_factor(0.042, 1)\n",
    "\n",
    "print(f\"Meek's total debt as of today: Php {debt_0}k\")"
   ]
  },
  {
   "cell_type": "markdown",
   "metadata": {},
   "source": [
    "# S1-2"
   ]
  },
  {
   "cell_type": "code",
   "execution_count": 3,
   "metadata": {},
   "outputs": [
    {
     "name": "stdout",
     "output_type": "stream",
     "text": [
      "Meek's yearly payment for the next 25 years: Php 57.031869696474516k\n"
     ]
    }
   ],
   "source": [
    "# Debt as of today (Year 0) multiplied by (A/P, 0.05, 25)\n",
    "yearly_payment = debt_0 * U.capital_recovery_factor(0.05, 25)\n",
    "\n",
    "print(f\"Meek's yearly payment for the next 25 years: Php {yearly_payment}k\")"
   ]
  },
  {
   "cell_type": "markdown",
   "metadata": {},
   "source": [
    "# S1-3"
   ]
  },
  {
   "cell_type": "code",
   "execution_count": 4,
   "metadata": {},
   "outputs": [
    {
     "name": "stdout",
     "output_type": "stream",
     "text": [
      "Meek's remaining debt at the end of Year 15: Php 440.38498031198424k\n"
     ]
    }
   ],
   "source": [
    "# The remaining debt at the end of Year 15 is the difference between ...\n",
    "debt_15 = (\n",
    "    # ...the value of Year 0 debt at the end of Year 15 ...\n",
    "    debt_0 * U.single_payment_compound_amount_factor(0.05, 15)\n",
    "    ) - (\n",
    "    # ...and the value of all yearly payments made by the end of Year 15\n",
    "    yearly_payment * U.uniform_series_compound_amount_factor(0.05, 15)\n",
    ")\n",
    "# Alternatively, the remaining debt at the end of Year 15\n",
    "# is the value at the start of Year 16\n",
    "# of the yearly payments that could have been made on Years 16 to 25.\n",
    "# debt_15 = yearly_payment * U.uniform_series_present_worth_factor(0.05, 10)\n",
    "\n",
    "print(f\"Meek's remaining debt at the end of Year 15: Php {debt_15}k\")"
   ]
  },
  {
   "cell_type": "markdown",
   "metadata": {},
   "source": [
    "# S1-4"
   ]
  },
  {
   "cell_type": "code",
   "execution_count": 5,
   "metadata": {},
   "outputs": [
    {
     "name": "stdout",
     "output_type": "stream",
     "text": [
      "Meek's monthly payments from the start of Year 16 onwards: Php 27.24913840187847k\n"
     ]
    }
   ],
   "source": [
    "monthly_payment = debt_15 * U.capital_recovery_factor(0.06, 12 * 5)\n",
    "\n",
    "print(f\"Meek's monthly payments from the start of Year 16 onwards: Php {monthly_payment}k\")"
   ]
  },
  {
   "cell_type": "markdown",
   "metadata": {},
   "source": [
    "# Scenario 2"
   ]
  },
  {
   "cell_type": "code",
   "execution_count": 6,
   "metadata": {},
   "outputs": [
    {
     "name": "stdout",
     "output_type": "stream",
     "text": [
      "Effective annual rates\n",
      "\tKat: 15.389462418258603 %\n",
      "\tFif: 10.426042440414918 %\n",
      "\tBig: 12.550881000000015 %\n"
     ]
    }
   ],
   "source": [
    "i_Kat = U.nominal_to_effective_annual_rate(12 * 0.012, 12)\n",
    "i_Fif = U.nominal_to_effective_annual_rate(0.10, 6)\n",
    "i_Big = U.nominal_to_effective_annual_rate(0.12, 4)\n",
    "\n",
    "print(f\"Effective annual rates\")\n",
    "print(f\"\\tKat: {i_Kat * 100} %\")\n",
    "print(f\"\\tFif: {i_Fif * 100} %\")\n",
    "print(f\"\\tBig: {i_Big * 100} %\")"
   ]
  },
  {
   "cell_type": "markdown",
   "metadata": {},
   "source": [
    "# Scenario 3"
   ]
  },
  {
   "cell_type": "markdown",
   "metadata": {},
   "source": [
    "## S3-1"
   ]
  },
  {
   "cell_type": "code",
   "execution_count": 7,
   "metadata": {},
   "outputs": [
    {
     "name": "stdout",
     "output_type": "stream",
     "text": [
      "Semiannually-compounded interest rate: 2.956301409869999 %\n"
     ]
    }
   ],
   "source": [
    "i_semiannual = U.effective_annual_to_nominal_periodic_rate(0.06, 2)\n",
    "\n",
    "print(f\"Semiannually-compounded interest rate: {i_semiannual * 100} %\")"
   ]
  },
  {
   "cell_type": "markdown",
   "metadata": {},
   "source": [
    "## S3-2"
   ]
  },
  {
   "cell_type": "code",
   "execution_count": 8,
   "metadata": {},
   "outputs": [
    {
     "name": "stdout",
     "output_type": "stream",
     "text": [
      "Semiannual payment per Dot's 5-year purchase terms: Php 0.2894988167332757M\n"
     ]
    }
   ],
   "source": [
    "semiannual_payment = (0.9 * 2.75) * U.capital_recovery_factor(i_semiannual, 2 * 5)\n",
    "print(f\"Semiannual payment per Dot's 5-year purchase terms: Php {semiannual_payment}M\")"
   ]
  },
  {
   "cell_type": "markdown",
   "metadata": {},
   "source": [
    "## S3-3"
   ]
  },
  {
   "cell_type": "code",
   "execution_count": 9,
   "metadata": {},
   "outputs": [
    {
     "name": "stdout",
     "output_type": "stream",
     "text": [
      "Drake's augmented semiannual payment per Cole's advice: Php 0.4694988167332757M\n"
     ]
    }
   ],
   "source": [
    "# Cole's advice means that Drake's semiannual payment is the sum of\n",
    "#   the semiannual payment required by Dot's purchase terms\n",
    "#   and the savings accumulated for a semiannual period (i.e., 6 months).\n",
    "print(f\"Drake's augmented semiannual payment per Cole's advice: Php {semiannual_payment + (0.03 * 6)}M\")"
   ]
  },
  {
   "cell_type": "code",
   "execution_count": 10,
   "metadata": {},
   "outputs": [
    {
     "name": "stdout",
     "output_type": "stream",
     "text": [
      "Balance: 2.475M\n",
      "Amount paid with 1 semiannual payments: 0.4560175630864948M\n",
      "Amount paid with 2 semiannual payments: 0.8989409750990179M\n",
      "Amount paid with 3 semiannual payments: 1.3291462232938267M\n",
      "Amount paid with 4 semiannual payments: 1.7469984987773406M\n",
      "Amount paid with 5 semiannual payments: 2.1528525065082893M\n",
      "Amount paid with 6 semiannual payments: 2.547052766398395M (ok)\n",
      "Amount paid with 7 semiannual payments: 2.929933905767216M (ok)\n",
      "Amount paid with 8 semiannual payments: 3.301820943399393M (ok)\n",
      "Amount paid with 9 semiannual payments: 3.663029565445449M (ok)\n",
      "Amount paid with 10 semiannual payments: 4.013866393400332M (ok)\n"
     ]
    }
   ],
   "source": [
    "# Cole's advice implies that Drake will be able to pay off the balance\n",
    "# in less than 10 payments (i.e., less than 5 years).\n",
    "# If\n",
    "#   S is the augmented semiannual payment,\n",
    "#   B is the balance,\n",
    "#   i % is the nominal semiannual interest rate (i.e., i % per semiannual period),\n",
    "#   and N is the number of semiannual compounding periods,\n",
    "# we can then find the smallest value of N less than 10 such that S * (P/A, i %, N) >= B;\n",
    "# in other words, the least number of payments in which Drake clears the balance.\n",
    "\n",
    "_balance = 0.9 * 2.75\n",
    "print(f\"Balance: {_balance}M\")\n",
    "for k in range(1, 11):\n",
    "    _paid = (semiannual_payment + (0.03 * 6)) * U.uniform_series_present_worth_factor(i_semiannual, k)\n",
    "    print(f\"Amount paid with {k} semiannual payments: {_paid}M{' (ok)' if (_paid >= _balance) else \"\"}\")"
   ]
  }
 ],
 "metadata": {
  "kernelspec": {
   "display_name": "ens191",
   "language": "python",
   "name": "python3"
  },
  "language_info": {
   "codemirror_mode": {
    "name": "ipython",
    "version": 3
   },
   "file_extension": ".py",
   "mimetype": "text/x-python",
   "name": "python",
   "nbconvert_exporter": "python",
   "pygments_lexer": "ipython3",
   "version": "3.12.2"
  }
 },
 "nbformat": 4,
 "nbformat_minor": 2
}
