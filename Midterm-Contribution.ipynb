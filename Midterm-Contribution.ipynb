{
 "cells": [
  {
   "cell_type": "markdown",
   "metadata": {},
   "source": [
    "# Utilities"
   ]
  },
  {
   "cell_type": "code",
   "execution_count": 1,
   "metadata": {},
   "outputs": [],
   "source": [
    "import math"
   ]
  },
  {
   "cell_type": "code",
   "execution_count": 2,
   "metadata": {},
   "outputs": [],
   "source": [
    "def single_payment_compound_amount_factor(\n",
    "    interest_rate : float,\n",
    "    num_periods : int,\n",
    ") -> float:\n",
    "    assert 0 < interest_rate < 1.0\n",
    "    assert num_periods >= 1\n",
    "    if not isinstance(interest_rate, float): interest_rate = float(interest_rate)\n",
    "    if not isinstance(num_periods, int): num_periods = int(num_periods)\n",
    "\n",
    "    return math.pow(1.0 + interest_rate, num_periods)\n",
    "\n",
    "def single_payment_present_worth_factor(\n",
    "    interest_rate : float,\n",
    "    num_periods : int,\n",
    ") -> float:\n",
    "    assert 0 < interest_rate < 1.0\n",
    "    assert num_periods >= 1\n",
    "    if not isinstance(interest_rate, float): interest_rate = float(interest_rate)\n",
    "    if not isinstance(num_periods, int): num_periods = int(num_periods)\n",
    "\n",
    "    return math.pow(1.0 + interest_rate, -num_periods)\n",
    "\n",
    "def uniform_series_compound_amount_factor(\n",
    "    interest_rate : float,\n",
    "    num_periods : int,\n",
    ") -> float:\n",
    "    assert 0 < interest_rate < 1.0\n",
    "    assert num_periods >= 1\n",
    "    if not isinstance(interest_rate, float): interest_rate = float(interest_rate)\n",
    "    if not isinstance(num_periods, int): num_periods = int(num_periods)\n",
    "\n",
    "    return (math.pow(1.0 + interest_rate, num_periods) - 1.0) / interest_rate\n",
    "\n",
    "def uniform_series_present_worth_factor(\n",
    "    interest_rate : float,\n",
    "    num_periods : int,\n",
    ") -> float:\n",
    "    assert 0 < interest_rate < 1.0\n",
    "    assert num_periods >= 1\n",
    "    if not isinstance(interest_rate, float): interest_rate = float(interest_rate)\n",
    "    if not isinstance(num_periods, int): num_periods = int(num_periods)\n",
    "\n",
    "    _temp = math.pow(1.0 + interest_rate, num_periods)\n",
    "    return (_temp - 1.0) / (interest_rate * _temp)\n",
    "\n",
    "def sinking_fund_factor(\n",
    "    interest_rate : float,\n",
    "    num_periods : int,\n",
    ") -> float:\n",
    "    assert 0 < interest_rate < 1.0\n",
    "    assert num_periods >= 1\n",
    "    if not isinstance(interest_rate, float): interest_rate = float(interest_rate)\n",
    "    if not isinstance(num_periods, int): num_periods = int(num_periods)\n",
    "    \n",
    "    return interest_rate / (math.pow(1.0 + interest_rate, num_periods) - 1.0)\n",
    "\n",
    "def capital_recovery_factor(\n",
    "    interest_rate : float,\n",
    "    num_periods : int,\n",
    ") -> float:\n",
    "    assert 0 < interest_rate < 1.0\n",
    "    assert num_periods >= 1\n",
    "    if not isinstance(interest_rate, float): interest_rate = float(interest_rate)\n",
    "    if not isinstance(num_periods, int): num_periods = int(num_periods)\n",
    "\n",
    "    return interest_rate / (1.0 - math.pow(1.0 + interest_rate, -num_periods))"
   ]
  },
  {
   "cell_type": "markdown",
   "metadata": {},
   "source": [
    "# Problem"
   ]
  },
  {
   "cell_type": "markdown",
   "metadata": {},
   "source": [
    "You are part of a committee tasked by a larger engineering team to come up with strategies for the next seven-year horizon.\n",
    "The committee shortlisted three (presumably mutually exclusive) strategies\n",
    "-- codenamed Pike, Bonaparte, and Rizal --\n",
    "crafted to give residual values at the end of the said study period.\n",
    "The team set an MARR of 8 % per year.\n",
    "Summary economic values for the strategies are tabulated below.\n",
    "\n",
    "|                 | Pike   | Bonaparte | Rizal  |\n",
    "|-----------------|--------|-----------|--------|\n",
    "| Initial costA   | 55k    | 45k       | 80k    |\n",
    "| Annual expenses | 6.25k  | 8.55k     | 3.2k   |\n",
    "| Annual revenue  | 18.25k | 16.75k    | 20.2k  |\n",
    "| Residual value  | 18k    | 3.75k     | 22k    |\n",
    "| IRR (per year)  | 15.9 % | 7.9 %     | 14.6 % |\n",
    "\n",
    "Which alternative will you recommend to the committee?\n",
    "Justify using incremental investment analysis."
   ]
  },
  {
   "cell_type": "code",
   "execution_count": 3,
   "metadata": {},
   "outputs": [
    {
     "name": "stdout",
     "output_type": "stream",
     "text": [
      "For an MARR of 10.0 % per year, Pike has an ERR of 12.193 % (>= 10.0 %) and a PW of 1.2658e+04 (>= 0).\n",
      "For an MARR of 10.0 % per year, Bonaparte has an ERR of 9.4186 % (< 10.0 %) and a PW of -3154.6 (< 0).\n",
      "For an MARR of 10.0 % per year, Rizal has an ERR of 12.177 % (>= 10.0 %) and a PW of 1.4053e+04 (>= 0).\n"
     ]
    }
   ],
   "source": [
    "MARR = 0.10\n",
    "T = 7\n",
    "monetary_unit_scaling = 1e3\n",
    "\n",
    "# Pike, Bonaparte, Rizal\n",
    "strategies = [\"Pike\", \"Bonaparte\", \"Rizal\"]\n",
    "Cs = [55.0, 45.0, 80.0]\n",
    "Ss = [18.0, 3.75, 22.0]\n",
    "Es = [6.25, 8.55, 3.20]\n",
    "Rs = [18.25, 16.75, 20.2]\n",
    "\n",
    "ERs = [None, None, None]\n",
    "PWs = [None, None, None]\n",
    "\n",
    "for i, (C, S, E, R) in enumerate(zip(Cs, Ss, Es, Rs)):\n",
    "    ERs[i] = math.pow(\n",
    "        (S + (R * uniform_series_compound_amount_factor(MARR, T))) \\\n",
    "            / (C + (E * uniform_series_present_worth_factor(MARR, T))),\n",
    "        (1.0 / T)\n",
    "    ) - 1.0\n",
    "\n",
    "    PWs[i] = (S * single_payment_present_worth_factor(MARR, T)) \\\n",
    "            + (R * uniform_series_present_worth_factor(MARR, T)) \\\n",
    "            - C \\\n",
    "            - (E * uniform_series_present_worth_factor(MARR, T))\n",
    "\n",
    "for i, (strat, ER, PW) in enumerate(zip(strategies, ERs, PWs)):\n",
    "    print(f\"For an MARR of {MARR * 100} % per year, \", end=\"\")\n",
    "    print(f\"{strat} has an ERR of {ER * 100 :.5} % ({'>=' if (ER >= MARR) else '<'} {MARR*100} %) \", end=\"\")\n",
    "    print(f\"and a PW of {PW * monetary_unit_scaling :.5} ({'>=' if (PW >= 0) else '<'} 0).\")"
   ]
  },
  {
   "cell_type": "markdown",
   "metadata": {},
   "source": [
    "Bonaparte is outright rejected.\n",
    "The contention is now between Pike and Rizal,\n",
    "and they make apparent the inconsistent ranking problem."
   ]
  },
  {
   "cell_type": "markdown",
   "metadata": {},
   "source": [
    "We choose Pike to be the base alternative,\n",
    "as it has the lesser capital investment.\n",
    "We now ask:\n",
    "\"Is Rizal's incremental capital and incremental annual expenses\n",
    "compensated by its incremental annual revenues and incremental residual value?\""
   ]
  },
  {
   "cell_type": "code",
   "execution_count": 4,
   "metadata": {},
   "outputs": [
    {
     "name": "stdout",
     "output_type": "stream",
     "text": [
      "ERR for incremental cashflow: 12.04176 % >= 10.00000 %\n",
      "PW for incremental cashflow: 1394.7265613874952 >= 0\n"
     ]
    }
   ],
   "source": [
    "incremental_C = Cs[2] - Cs[0]\n",
    "incremental_S = Ss[2] - Ss[0]\n",
    "incremental_E = Es[2] - Es[0]\n",
    "incremental_R = Rs[2] - Rs[0]\n",
    "\n",
    "incremental_ER = math.pow(\n",
    "    (incremental_S + (incremental_R * uniform_series_compound_amount_factor(MARR, T))) \\\n",
    "    / (incremental_C + (incremental_E * uniform_series_present_worth_factor(MARR, T))),\n",
    "    (1.0 / T)\n",
    ") - 1.0\n",
    "\n",
    "incremental_PW = (incremental_S * single_payment_present_worth_factor(MARR, T)) \\\n",
    "    + (incremental_R * uniform_series_present_worth_factor(MARR, T)) \\\n",
    "    - incremental_C \\\n",
    "    - (incremental_E * uniform_series_present_worth_factor(MARR, T))\n",
    "\n",
    "print(f\"ERR for incremental cashflow: {incremental_ER * 100 :.5f} % {'>=' if (incremental_ER >= MARR) else '<'} {MARR * 100 :.5f} %\")\n",
    "print(f\"PW for incremental cashflow: {incremental_PW * monetary_unit_scaling} {'>=' if (incremental_PW >= 0) else '<'} 0\")"
   ]
  },
  {
   "cell_type": "markdown",
   "metadata": {},
   "source": [
    "It is thus justifiable to move to Rizal from Pike.\n",
    "As such, Rizal is the preferred strategy."
   ]
  }
 ],
 "metadata": {
  "kernelspec": {
   "display_name": "ens191",
   "language": "python",
   "name": "python3"
  },
  "language_info": {
   "codemirror_mode": {
    "name": "ipython",
    "version": 3
   },
   "file_extension": ".py",
   "mimetype": "text/x-python",
   "name": "python",
   "nbconvert_exporter": "python",
   "pygments_lexer": "ipython3",
   "version": "3.12.2"
  }
 },
 "nbformat": 4,
 "nbformat_minor": 2
}
